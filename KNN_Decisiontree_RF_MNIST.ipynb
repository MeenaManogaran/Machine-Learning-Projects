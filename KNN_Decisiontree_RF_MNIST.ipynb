{
 "cells": [
  {
   "cell_type": "markdown",
   "metadata": {},
   "source": [
    "## LIBRARIES TO IMPORT"
   ]
  },
  {
   "cell_type": "code",
   "execution_count": 1,
   "metadata": {},
   "outputs": [],
   "source": [
    "import pandas as pd\n",
    "import numpy as np\n",
    "from sklearn.neighbors import KNeighborsClassifier\n",
    "from sklearn.tree import DecisionTreeClassifier\n",
    "from sklearn.ensemble import RandomForestClassifier\n",
    "from sklearn.metrics import confusion_matrix,classification_report,accuracy_score\n",
    "from sklearn.datasets import load_digits\n",
    "import cv2\n",
    "from sklearn.model_selection import train_test_split\n",
    "import matplotlib.pyplot as plt\n",
    "import seaborn as sns"
   ]
  },
  {
   "cell_type": "markdown",
   "metadata": {},
   "source": [
    "## LOADING MNIST DATASET AND CHECKING THE KEY VALUES"
   ]
  },
  {
   "cell_type": "code",
   "execution_count": 2,
   "metadata": {},
   "outputs": [],
   "source": [
    "mnist = load_digits()"
   ]
  },
  {
   "cell_type": "code",
   "execution_count": 3,
   "metadata": {},
   "outputs": [
    {
     "data": {
      "text/plain": [
       "sklearn.utils.Bunch"
      ]
     },
     "execution_count": 3,
     "metadata": {},
     "output_type": "execute_result"
    }
   ],
   "source": [
    "type(mnist)"
   ]
  },
  {
   "cell_type": "code",
   "execution_count": 4,
   "metadata": {},
   "outputs": [
    {
     "data": {
      "text/plain": [
       "dict_keys(['data', 'target', 'frame', 'feature_names', 'target_names', 'images', 'DESCR'])"
      ]
     },
     "execution_count": 4,
     "metadata": {},
     "output_type": "execute_result"
    }
   ],
   "source": [
    "mnist.keys()"
   ]
  },
  {
   "cell_type": "code",
   "execution_count": 5,
   "metadata": {},
   "outputs": [
    {
     "data": {
      "text/plain": [
       "(1797, 64)"
      ]
     },
     "execution_count": 5,
     "metadata": {},
     "output_type": "execute_result"
    }
   ],
   "source": [
    "mnist.data.shape"
   ]
  },
  {
   "cell_type": "code",
   "execution_count": 6,
   "metadata": {
    "scrolled": true
   },
   "outputs": [
    {
     "data": {
      "text/plain": [
       "array([[[ 0.,  0.,  5., ...,  1.,  0.,  0.],\n",
       "        [ 0.,  0., 13., ..., 15.,  5.,  0.],\n",
       "        [ 0.,  3., 15., ..., 11.,  8.,  0.],\n",
       "        ...,\n",
       "        [ 0.,  4., 11., ..., 12.,  7.,  0.],\n",
       "        [ 0.,  2., 14., ..., 12.,  0.,  0.],\n",
       "        [ 0.,  0.,  6., ...,  0.,  0.,  0.]],\n",
       "\n",
       "       [[ 0.,  0.,  0., ...,  5.,  0.,  0.],\n",
       "        [ 0.,  0.,  0., ...,  9.,  0.,  0.],\n",
       "        [ 0.,  0.,  3., ...,  6.,  0.,  0.],\n",
       "        ...,\n",
       "        [ 0.,  0.,  1., ...,  6.,  0.,  0.],\n",
       "        [ 0.,  0.,  1., ...,  6.,  0.,  0.],\n",
       "        [ 0.,  0.,  0., ..., 10.,  0.,  0.]],\n",
       "\n",
       "       [[ 0.,  0.,  0., ..., 12.,  0.,  0.],\n",
       "        [ 0.,  0.,  3., ..., 14.,  0.,  0.],\n",
       "        [ 0.,  0.,  8., ..., 16.,  0.,  0.],\n",
       "        ...,\n",
       "        [ 0.,  9., 16., ...,  0.,  0.,  0.],\n",
       "        [ 0.,  3., 13., ..., 11.,  5.,  0.],\n",
       "        [ 0.,  0.,  0., ..., 16.,  9.,  0.]],\n",
       "\n",
       "       ...,\n",
       "\n",
       "       [[ 0.,  0.,  1., ...,  1.,  0.,  0.],\n",
       "        [ 0.,  0., 13., ...,  2.,  1.,  0.],\n",
       "        [ 0.,  0., 16., ..., 16.,  5.,  0.],\n",
       "        ...,\n",
       "        [ 0.,  0., 16., ..., 15.,  0.,  0.],\n",
       "        [ 0.,  0., 15., ..., 16.,  0.,  0.],\n",
       "        [ 0.,  0.,  2., ...,  6.,  0.,  0.]],\n",
       "\n",
       "       [[ 0.,  0.,  2., ...,  0.,  0.,  0.],\n",
       "        [ 0.,  0., 14., ..., 15.,  1.,  0.],\n",
       "        [ 0.,  4., 16., ..., 16.,  7.,  0.],\n",
       "        ...,\n",
       "        [ 0.,  0.,  0., ..., 16.,  2.,  0.],\n",
       "        [ 0.,  0.,  4., ..., 16.,  2.,  0.],\n",
       "        [ 0.,  0.,  5., ..., 12.,  0.,  0.]],\n",
       "\n",
       "       [[ 0.,  0., 10., ...,  1.,  0.,  0.],\n",
       "        [ 0.,  2., 16., ...,  1.,  0.,  0.],\n",
       "        [ 0.,  0., 15., ..., 15.,  0.,  0.],\n",
       "        ...,\n",
       "        [ 0.,  4., 16., ..., 16.,  6.,  0.],\n",
       "        [ 0.,  8., 16., ..., 16.,  8.,  0.],\n",
       "        [ 0.,  1.,  8., ..., 12.,  1.,  0.]]])"
      ]
     },
     "execution_count": 6,
     "metadata": {},
     "output_type": "execute_result"
    }
   ],
   "source": [
    "mnist.images"
   ]
  },
  {
   "cell_type": "markdown",
   "metadata": {},
   "source": [
    "## ASSIGNING THE DATA AND TARGET VARIABLES TO X & y respectively"
   ]
  },
  {
   "cell_type": "code",
   "execution_count": 7,
   "metadata": {},
   "outputs": [],
   "source": [
    "X=mnist.data\n",
    "y=mnist.target"
   ]
  },
  {
   "cell_type": "code",
   "execution_count": 8,
   "metadata": {},
   "outputs": [
    {
     "data": {
      "text/plain": [
       "(1797, 64)"
      ]
     },
     "execution_count": 8,
     "metadata": {},
     "output_type": "execute_result"
    }
   ],
   "source": [
    "X.shape"
   ]
  },
  {
   "cell_type": "code",
   "execution_count": 9,
   "metadata": {
    "scrolled": true
   },
   "outputs": [
    {
     "data": {
      "text/plain": [
       "(1797,)"
      ]
     },
     "execution_count": 9,
     "metadata": {},
     "output_type": "execute_result"
    }
   ],
   "source": [
    "y.shape"
   ]
  },
  {
   "cell_type": "markdown",
   "metadata": {},
   "source": [
    "# CREATING A DATAFRAME TO SEE THE DATA VALUES"
   ]
  },
  {
   "cell_type": "code",
   "execution_count": 10,
   "metadata": {
    "scrolled": true
   },
   "outputs": [
    {
     "name": "stdout",
     "output_type": "stream",
     "text": [
      "   pixel_0_0  pixel_0_1  pixel_0_2  pixel_0_3  pixel_0_4  pixel_0_5  \\\n",
      "0        0.0        0.0        5.0       13.0        9.0        1.0   \n",
      "1        0.0        0.0        0.0       12.0       13.0        5.0   \n",
      "2        0.0        0.0        0.0        4.0       15.0       12.0   \n",
      "3        0.0        0.0        7.0       15.0       13.0        1.0   \n",
      "4        0.0        0.0        0.0        1.0       11.0        0.0   \n",
      "\n",
      "   pixel_0_6  pixel_0_7  pixel_1_0  pixel_1_1  ...  pixel_6_6  pixel_6_7  \\\n",
      "0        0.0        0.0        0.0        0.0  ...        0.0        0.0   \n",
      "1        0.0        0.0        0.0        0.0  ...        0.0        0.0   \n",
      "2        0.0        0.0        0.0        0.0  ...        5.0        0.0   \n",
      "3        0.0        0.0        0.0        8.0  ...        9.0        0.0   \n",
      "4        0.0        0.0        0.0        0.0  ...        0.0        0.0   \n",
      "\n",
      "   pixel_7_0  pixel_7_1  pixel_7_2  pixel_7_3  pixel_7_4  pixel_7_5  \\\n",
      "0        0.0        0.0        6.0       13.0       10.0        0.0   \n",
      "1        0.0        0.0        0.0       11.0       16.0       10.0   \n",
      "2        0.0        0.0        0.0        3.0       11.0       16.0   \n",
      "3        0.0        0.0        7.0       13.0       13.0        9.0   \n",
      "4        0.0        0.0        0.0        2.0       16.0        4.0   \n",
      "\n",
      "   pixel_7_6  pixel_7_7  \n",
      "0        0.0        0.0  \n",
      "1        0.0        0.0  \n",
      "2        9.0        0.0  \n",
      "3        0.0        0.0  \n",
      "4        0.0        0.0  \n",
      "\n",
      "[5 rows x 64 columns]\n"
     ]
    }
   ],
   "source": [
    "df=pd.DataFrame(X,columns=mnist.feature_names)\n",
    "print(df.head())"
   ]
  },
  {
   "cell_type": "markdown",
   "metadata": {},
   "source": [
    "## SPLITING THE DATA INTO TRAIN & VAL SETS"
   ]
  },
  {
   "cell_type": "code",
   "execution_count": 11,
   "metadata": {
    "scrolled": true
   },
   "outputs": [
    {
     "name": "stdout",
     "output_type": "stream",
     "text": [
      "[1 2 4 9 3 1 0 4 3 0 1 2 2 8 7 8 1 6 8 7 4 9 9 9 0 3 3 6 4 1 2 7 4 9 7 0 7\n",
      " 7 3 1 7 8 9 5 2 2 8 6 1 3 9 0 6 3 5 2 4 8 7 3 9 1 5 4 5 1 2 8 4 2 5 7 2 4\n",
      " 3 3 1 0 2 4 5 4 3 7 7 3 2 6 9 5 7 0 9 9 2 6 7 5 5 6 5 7 8 5 8 6 1 4 2 1 1\n",
      " 4 0 9 0 7 1 8 8 1 5 1 9 3 3 5 7 6 8 9 1 5 5 5 2 8 3 8 4 6 6 7 6 6 6 2 0 6\n",
      " 3 3 0 4 5 8 0 0 8 9 5 1 1 0 0 7 3 7 7 5 8 5 4 1 7 2 7 0 2 4 0 5 3 2 3 7 9\n",
      " 2 2 6 7 8 9 3 8 9 2 4 8 1 6 7 5 8 3 2 7 6 0 4 6 3 2 5 8 4 4 0 0 6 9 8 9 1\n",
      " 0 8 0 6 0 1 3 6 9 9 3 0 4 1 2 6 9 9 1 5 4 0 1 5 3 6 4 1 5 6]\n",
      "0.9920634920634921\n"
     ]
    }
   ],
   "source": [
    "X_train,X_val,y_train,y_val=train_test_split(X,y,test_size=0.14,random_state=21,stratify=y)\n",
    "knn=KNeighborsClassifier(n_neighbors=9)\n",
    "knn.fit(X_train,y_train)\n",
    "prediction = knn.predict(X_val)\n",
    "\n",
    "print(prediction)\n",
    "print(knn.score(X_val,y_val))"
   ]
  },
  {
   "cell_type": "markdown",
   "metadata": {},
   "source": [
    "## CHECKING THE LENGTH OF THE TRAIN AND VAL DATA"
   ]
  },
  {
   "cell_type": "code",
   "execution_count": 12,
   "metadata": {
    "scrolled": true
   },
   "outputs": [
    {
     "name": "stdout",
     "output_type": "stream",
     "text": [
      "training data points: 1545\n",
      "validation data points: 252\n"
     ]
    }
   ],
   "source": [
    "print(\"training data points: {}\".format(len(y_train)))\n",
    "print(\"validation data points: {}\".format(len(y_val)))"
   ]
  },
  {
   "cell_type": "markdown",
   "metadata": {},
   "source": [
    "## FINDING THE BEST K-VALUE BASED ON THE ACCURACY"
   ]
  },
  {
   "cell_type": "code",
   "execution_count": 13,
   "metadata": {
    "scrolled": true
   },
   "outputs": [
    {
     "name": "stdout",
     "output_type": "stream",
     "text": [
      "k=1, accuracy=98.41%\n",
      "k=3, accuracy=97.62%\n",
      "k=5, accuracy=97.62%\n",
      "k=7, accuracy=98.81%\n",
      "k=9, accuracy=99.21%\n",
      "k=11, accuracy=98.81%\n",
      "k=13, accuracy=98.41%\n",
      "k=15, accuracy=98.02%\n",
      "k=17, accuracy=97.22%\n",
      "k=19, accuracy=97.22%\n",
      "k=21, accuracy=96.83%\n",
      "k=23, accuracy=96.43%\n",
      "k=25, accuracy=97.22%\n",
      "k=27, accuracy=96.03%\n",
      "k=29, accuracy=96.03%\n"
     ]
    }
   ],
   "source": [
    "kvalues = range(1, 30, 2)\n",
    "accuracies = []\n",
    "\n",
    "for k in range(1, 30,2):\n",
    "          model = KNeighborsClassifier(n_neighbors=k)\n",
    "          model.fit(X_train,y_train)\n",
    "          # evaluate the model and update the accuracies list\n",
    "          score = model.score(X_val,y_val)\n",
    "          print(\"k=%d, accuracy=%.2f%%\" % (k, score * 100))\n",
    "          accuracies.append(score*100)\n"
   ]
  },
  {
   "cell_type": "markdown",
   "metadata": {},
   "source": [
    "# VISUALIZING ACCURACIES AGAINST DIFFERENT K-VALUES"
   ]
  },
  {
   "cell_type": "code",
   "execution_count": 14,
   "metadata": {},
   "outputs": [
    {
     "data": {
      "text/plain": [
       "Text(0, 0.5, 'Accuracy(%)')"
      ]
     },
     "execution_count": 14,
     "metadata": {},
     "output_type": "execute_result"
    },
    {
     "data": {
      "image/png": "[encoded data removed]",
      "text/plain": [
       "<Figure size 432x288 with 1 Axes>"
      ]
     },
     "metadata": {
      "needs_background": "light"
     },
     "output_type": "display_data"
    }
   ],
   "source": [
    "plt.plot(kvalues,accuracies,markersize=6,marker='o')\n",
    "plt.xlabel('K-value')\n",
    "plt.ylabel('Accuracy(%)')"
   ]
  },
  {
   "cell_type": "code",
   "execution_count": 15,
   "metadata": {
    "scrolled": true
   },
   "outputs": [
    {
     "name": "stdout",
     "output_type": "stream",
     "text": [
      "k=9 achieved highest accuracy of 99.21% on validation data\n"
     ]
    }
   ],
   "source": [
    "i = np.argmax(accuracies)\n",
    "#print(i)\n",
    "print(\"k=%d achieved highest accuracy of %.2f%% on validation data\" % (kvalues[i],accuracies[i]))"
   ]
  },
  {
   "cell_type": "markdown",
   "metadata": {},
   "source": [
    "## SPLITING THE DATA INTO TRAIN & TEST SETS"
   ]
  },
  {
   "cell_type": "code",
   "execution_count": 16,
   "metadata": {},
   "outputs": [
    {
     "name": "stdout",
     "output_type": "stream",
     "text": [
      "k=9 achieved highest accuracy of 99.573% on test data\n"
     ]
    }
   ],
   "source": [
    "X_train,X_test,y_train,y_test=train_test_split(X,y,test_size=0.13,random_state=30,stratify=y)\n",
    "model = KNeighborsClassifier(n_neighbors=kvalues[i])\n",
    "model.fit(X_train,y_train)\n",
    "predictions = model.predict(X_test)\n",
    "\n",
    "accuracy=accuracy_score(y_test, predictions)\n",
    "print(\"k=%d achieved highest accuracy of %.3f%% on test data\" % (kvalues[i],accuracy*100))"
   ]
  },
  {
   "cell_type": "markdown",
   "metadata": {},
   "source": [
    "# ACHIEVED F-SCORE OF 100% WITH K=9"
   ]
  },
  {
   "cell_type": "code",
   "execution_count": 17,
   "metadata": {
    "scrolled": true
   },
   "outputs": [
    {
     "name": "stdout",
     "output_type": "stream",
     "text": [
      "EVALUATION ON TESTING DATA\n",
      "              precision    recall  f1-score   support\n",
      "\n",
      "           0       1.00      1.00      1.00        23\n",
      "           1       1.00      1.00      1.00        24\n",
      "           2       1.00      1.00      1.00        23\n",
      "           3       1.00      1.00      1.00        24\n",
      "           4       0.96      1.00      0.98        23\n",
      "           5       1.00      1.00      1.00        24\n",
      "           6       1.00      1.00      1.00        24\n",
      "           7       1.00      1.00      1.00        23\n",
      "           8       1.00      1.00      1.00        23\n",
      "           9       1.00      0.96      0.98        23\n",
      "\n",
      "    accuracy                           1.00       234\n",
      "   macro avg       1.00      1.00      1.00       234\n",
      "weighted avg       1.00      1.00      1.00       234\n",
      "\n",
      "Confusion matrix\n",
      "[[23  0  0  0  0  0  0  0  0  0]\n",
      " [ 0 24  0  0  0  0  0  0  0  0]\n",
      " [ 0  0 23  0  0  0  0  0  0  0]\n",
      " [ 0  0  0 24  0  0  0  0  0  0]\n",
      " [ 0  0  0  0 23  0  0  0  0  0]\n",
      " [ 0  0  0  0  0 24  0  0  0  0]\n",
      " [ 0  0  0  0  0  0 24  0  0  0]\n",
      " [ 0  0  0  0  0  0  0 23  0  0]\n",
      " [ 0  0  0  0  0  0  0  0 23  0]\n",
      " [ 0  0  0  0  1  0  0  0  0 22]]\n"
     ]
    }
   ],
   "source": [
    "print(\"EVALUATION ON TESTING DATA\")\n",
    "print(classification_report(y_test, predictions))\n",
    "\n",
    "print (\"Confusion matrix\")\n",
    "print(confusion_matrix(y_test,predictions))"
   ]
  },
  {
   "cell_type": "markdown",
   "metadata": {},
   "source": [
    "## CHECKING THE LENGTH OF THE TRAIN AND TEST DATA"
   ]
  },
  {
   "cell_type": "code",
   "execution_count": 18,
   "metadata": {},
   "outputs": [
    {
     "name": "stdout",
     "output_type": "stream",
     "text": [
      "training data points: 1563\n",
      "testing data points: 234\n"
     ]
    }
   ],
   "source": [
    "print(\"training data points: {}\".format(len(y_train)))\n",
    "print(\"testing data points: {}\".format(len(y_test)))"
   ]
  },
  {
   "cell_type": "code",
   "execution_count": 19,
   "metadata": {},
   "outputs": [
    {
     "data": {
      "text/plain": [
       "array([[ 0.,  0.,  1., ...,  3.,  0.,  0.],\n",
       "       [ 0.,  2., 15., ..., 12.,  8.,  1.],\n",
       "       [ 0.,  0.,  0., ...,  7.,  0.,  0.],\n",
       "       ...,\n",
       "       [ 0.,  0.,  0., ..., 15.,  4.,  0.],\n",
       "       [ 0.,  0.,  3., ...,  8.,  0.,  0.],\n",
       "       [ 0.,  0.,  1., ..., 15.,  5.,  0.]])"
      ]
     },
     "execution_count": 19,
     "metadata": {},
     "output_type": "execute_result"
    }
   ],
   "source": [
    "X_val"
   ]
  },
  {
   "cell_type": "code",
   "execution_count": 20,
   "metadata": {
    "scrolled": true
   },
   "outputs": [
    {
     "data": {
      "text/plain": [
       "array([[ 0.,  0.,  5., ...,  0.,  0.,  0.],\n",
       "       [ 0.,  0.,  1., ...,  8.,  0.,  0.],\n",
       "       [ 0.,  0., 15., ...,  0.,  0.,  0.],\n",
       "       ...,\n",
       "       [ 0.,  3., 15., ..., 13.,  3.,  0.],\n",
       "       [ 0.,  0., 10., ...,  0.,  0.,  0.],\n",
       "       [ 0.,  0.,  5., ...,  9.,  0.,  0.]])"
      ]
     },
     "execution_count": 20,
     "metadata": {},
     "output_type": "execute_result"
    }
   ],
   "source": [
    "X_test"
   ]
  },
  {
   "cell_type": "markdown",
   "metadata": {},
   "source": [
    "## RECHECKING WITH THE IMAGES AND TARGET"
   ]
  },
  {
   "cell_type": "code",
   "execution_count": 21,
   "metadata": {},
   "outputs": [
    {
     "data": {
      "text/plain": [
       "<matplotlib.image.AxesImage at 0x1ef191e66d0>"
      ]
     },
     "execution_count": 21,
     "metadata": {},
     "output_type": "execute_result"
    },
    {
     "data": {
      "image/png": "[encoded data removed]",
      "text/plain": [
       "<Figure size 288x288 with 1 Axes>"
      ]
     },
     "metadata": {
      "needs_background": "light"
     },
     "output_type": "display_data"
    }
   ],
   "source": [
    "plt.matshow(X_test[9].reshape(8,8))"
   ]
  },
  {
   "cell_type": "code",
   "execution_count": 22,
   "metadata": {},
   "outputs": [
    {
     "data": {
      "text/plain": [
       "array([[ 0.,  0., 10., 16., 16., 13.,  0.,  0.],\n",
       "       [ 0.,  4., 16., 15., 12.,  4.,  0.,  0.],\n",
       "       [ 0.,  8., 16.,  4.,  0.,  0.,  0.,  0.],\n",
       "       [ 0.,  4., 16., 11.,  6.,  1.,  0.,  0.],\n",
       "       [ 0.,  0.,  8., 16., 16., 13.,  2.,  0.],\n",
       "       [ 0.,  0.,  0.,  1.,  7., 14., 12.,  0.],\n",
       "       [ 0.,  0.,  0.,  6., 13., 16., 10.,  0.],\n",
       "       [ 0.,  0., 12., 16., 14.,  6.,  0.,  0.]])"
      ]
     },
     "execution_count": 22,
     "metadata": {},
     "output_type": "execute_result"
    }
   ],
   "source": [
    "X_test[9].reshape(8,8)"
   ]
  },
  {
   "cell_type": "code",
   "execution_count": 23,
   "metadata": {},
   "outputs": [
    {
     "data": {
      "text/plain": [
       "5"
      ]
     },
     "execution_count": 23,
     "metadata": {},
     "output_type": "execute_result"
    }
   ],
   "source": [
    "y_test[9]#verified with the target data. Its correct"
   ]
  },
  {
   "cell_type": "markdown",
   "metadata": {},
   "source": [
    "### Decision Tree Algorithm"
   ]
  },
  {
   "cell_type": "code",
   "execution_count": 24,
   "metadata": {},
   "outputs": [],
   "source": [
    "X=mnist.data\n",
    "y=mnist.target"
   ]
  },
  {
   "cell_type": "code",
   "execution_count": 25,
   "metadata": {},
   "outputs": [
    {
     "data": {
      "text/plain": [
       "(1797, 64)"
      ]
     },
     "execution_count": 25,
     "metadata": {},
     "output_type": "execute_result"
    }
   ],
   "source": [
    "X.shape"
   ]
  },
  {
   "cell_type": "code",
   "execution_count": 26,
   "metadata": {},
   "outputs": [
    {
     "name": "stdout",
     "output_type": "stream",
     "text": [
      "[1 2 4 3 3 1 4 4 3 0 1 2 2 8 7 8 1 6 8 7 4 9 9 9 0 1 3 6 4 1 2 7 4 9 7 0 7\n",
      " 7 3 1 7 8 9 3 2 2 2 6 1 3 9 0 6 3 5 2 4 8 7 3 3 1 5 4 5 1 2 8 8 9 5 7 2 6\n",
      " 3 3 1 0 2 4 5 4 2 7 7 3 2 6 9 5 7 0 9 9 1 6 7 5 5 6 5 7 8 5 8 6 1 4 8 1 1\n",
      " 5 0 0 0 3 1 5 8 2 6 1 9 3 3 5 7 6 8 9 3 5 5 5 2 8 3 8 4 6 6 7 6 6 6 2 0 6\n",
      " 3 3 8 4 5 8 0 0 9 9 4 2 1 0 0 7 3 3 7 5 8 5 7 9 9 2 7 0 2 8 0 5 9 2 2 4 9\n",
      " 2 2 6 7 8 9 3 8 9 2 4 8 1 6 7 5 8 3 2 7 4 0 4 6 3 2 5 8 4 8 0 0 6 9 0 9 1\n",
      " 0 8 0 6 0 1 3 6 3 9 3 0 9 1 8 6 9 8 1 5 4 0 1 3 3 6 4 1 5 6]\n",
      "0.8492063492063492\n"
     ]
    }
   ],
   "source": [
    "X_train,X_val,y_train,y_val=train_test_split(X,y,test_size=0.14,random_state=21,stratify=y)\n",
    "dt=DecisionTreeClassifier()\n",
    "dt.fit(X_train,y_train)\n",
    "prediction = dt.predict(X_val)\n",
    "\n",
    "print(prediction)\n",
    "print(dt.score(X_val,y_val))\n"
   ]
  },
  {
   "cell_type": "code",
   "execution_count": 27,
   "metadata": {},
   "outputs": [],
   "source": [
    "X_train,X_test,y_train,y_test=train_test_split(X,y,test_size=0.13,random_state=30,stratify=y)\n",
    "dt_model = DecisionTreeClassifier()\n",
    "dt_model.fit(X_train,y_train)\n",
    "predictions = dt_model.predict(X_test)\n",
    "\n",
    "accuracy_dt=accuracy_score(y_test, predictions)\n"
   ]
  },
  {
   "cell_type": "code",
   "execution_count": 28,
   "metadata": {},
   "outputs": [
    {
     "name": "stdout",
     "output_type": "stream",
     "text": [
      "EVALUATION ON TESTING DATA\n",
      "              precision    recall  f1-score   support\n",
      "\n",
      "           0       0.96      0.96      0.96        23\n",
      "           1       0.83      0.83      0.83        24\n",
      "           2       0.83      0.87      0.85        23\n",
      "           3       0.95      0.79      0.86        24\n",
      "           4       0.88      0.96      0.92        23\n",
      "           5       1.00      0.92      0.96        24\n",
      "           6       0.88      0.92      0.90        24\n",
      "           7       0.88      1.00      0.94        23\n",
      "           8       0.78      0.78      0.78        23\n",
      "           9       0.91      0.87      0.89        23\n",
      "\n",
      "    accuracy                           0.89       234\n",
      "   macro avg       0.89      0.89      0.89       234\n",
      "weighted avg       0.89      0.89      0.89       234\n",
      "\n",
      "Confusion matrix\n",
      "[[22  0  0  0  0  0  0  0  1  0]\n",
      " [ 0 20  0  1  0  0  1  0  1  1]\n",
      " [ 0  1 20  0  0  0  1  0  1  0]\n",
      " [ 1  0  1 19  0  0  0  1  2  0]\n",
      " [ 0  0  0  0 22  0  1  0  0  0]\n",
      " [ 0  0  1  0  0 22  0  1  0  0]\n",
      " [ 0  1  0  0  1  0 22  0  0  0]\n",
      " [ 0  0  0  0  0  0  0 23  0  0]\n",
      " [ 0  1  2  0  1  0  0  0 18  1]\n",
      " [ 0  1  0  0  1  0  0  1  0 20]]\n"
     ]
    }
   ],
   "source": [
    "print(\"EVALUATION ON TESTING DATA\")\n",
    "print(classification_report(y_test, predictions))\n",
    "\n",
    "print (\"Confusion matrix\")\n",
    "print(confusion_matrix(y_test,predictions))"
   ]
  },
  {
   "cell_type": "code",
   "execution_count": 29,
   "metadata": {},
   "outputs": [
    {
     "name": "stdout",
     "output_type": "stream",
     "text": [
      "Decision tree achieved highest accuracy of 88.889% on test data\n"
     ]
    }
   ],
   "source": [
    "print(\"Decision tree achieved highest accuracy of %.3f%% on test data\" % (accuracy_dt*100))"
   ]
  },
  {
   "cell_type": "code",
   "execution_count": 30,
   "metadata": {},
   "outputs": [
    {
     "name": "stdout",
     "output_type": "stream",
     "text": [
      "[2 1 5 1 7 4 0 8 6 5 2 7 9 5 4 8 4 7 4 1 5 3 8 9 1 1 4 6 9 8 2 1 2 8 5 0 9\n",
      " 3 4 2 8 3 3 5 1 1 1 7 3 4 4 3 0 7 8 7 5 5 2 0 5 1 6 0 2 4 0 4 7 9 2 2 3 3\n",
      " 6 2 3 8 9 6 4 4 2 9 4 8 2 0 3 0 8 2 7 6 0 3 6 9 7 4 9 9 2 4 1 2 1 8 7 4 0\n",
      " 9 7 3 7 0 8 5 3 7 9 8 7 8 7 9 4 3 0 8 2 1 8 5 6 5 9 3 6 2 0 1 4 9 7 1 1 7\n",
      " 0 8 0 1 2 9 8 6 7 5 7 0 3 6 5 7 8 3 4 6 6 9 9 4 1 1 1 7 1 6 1 2 0 4 3 6 2\n",
      " 7 6 3 5 4 7 7 8 0 5 6 9 0 6 6 2 4 2 9 9 1 4 8 2 5 5 9 6 6 2 0 1 4 6 6 7 0\n",
      " 7 5 8 5 3 6 5 5 0 6 0 8]\n",
      "0.8888888888888888\n"
     ]
    }
   ],
   "source": [
    "print(predictions)\n",
    "print(dt_model.score(X_test,y_test))"
   ]
  },
  {
   "cell_type": "markdown",
   "metadata": {},
   "source": [
    "### Random Forest Algorithm"
   ]
  },
  {
   "cell_type": "code",
   "execution_count": 31,
   "metadata": {},
   "outputs": [],
   "source": [
    "X=mnist.data\n",
    "y=mnist.target"
   ]
  },
  {
   "cell_type": "code",
   "execution_count": 32,
   "metadata": {},
   "outputs": [
    {
     "name": "stdout",
     "output_type": "stream",
     "text": [
      "[1 2 4 9 3 1 0 4 3 0 1 2 2 8 7 8 1 6 8 7 4 9 9 9 0 3 3 6 4 1 2 7 4 9 7 0 7\n",
      " 7 3 1 7 8 9 5 2 2 8 6 1 3 9 0 6 3 5 2 4 8 7 3 9 1 5 4 5 1 2 8 4 2 5 7 2 4\n",
      " 3 3 1 0 2 4 5 4 3 7 7 3 2 6 9 5 7 0 9 9 2 6 7 5 5 6 5 7 8 5 8 6 1 4 2 1 1\n",
      " 4 0 9 0 9 1 8 8 1 5 1 9 3 3 5 7 6 8 9 1 5 5 5 2 8 3 8 4 6 6 7 6 6 6 2 0 6\n",
      " 3 3 4 4 5 8 0 0 8 9 4 1 1 0 0 7 3 7 7 5 8 5 4 9 7 2 7 0 2 9 0 5 3 2 3 7 9\n",
      " 2 2 6 7 8 9 3 8 9 2 4 8 1 6 7 5 8 3 2 7 6 0 4 6 3 2 5 8 4 4 0 0 6 9 8 9 1\n",
      " 0 8 0 6 0 1 3 6 9 9 3 0 4 1 2 6 9 8 1 5 4 0 1 5 3 6 4 1 5 6]\n",
      "0.9761904761904762\n"
     ]
    }
   ],
   "source": [
    "X_train,X_val,y_train,y_val=train_test_split(X,y,test_size=0.14,random_state=21,stratify=y)\n",
    "rf=RandomForestClassifier(n_estimators=400)\n",
    "rf.fit(X_train,y_train)\n",
    "prediction = rf.predict(X_val)\n",
    "\n",
    "print(prediction)\n",
    "print(rf.score(X_val,y_val))\n"
   ]
  },
  {
   "cell_type": "code",
   "execution_count": 33,
   "metadata": {},
   "outputs": [
    {
     "name": "stdout",
     "output_type": "stream",
     "text": [
      "k=1, accuracy=73.02%\n",
      "k=100, accuracy=97.22%\n",
      "k=200, accuracy=96.83%\n",
      "k=300, accuracy=97.62%\n",
      "k=400, accuracy=97.62%\n",
      "k=500, accuracy=97.62%\n",
      "k=600, accuracy=97.22%\n",
      "k=700, accuracy=97.62%\n"
     ]
    }
   ],
   "source": [
    "\n",
    "accuracies = []\n",
    "\n",
    "for k in [1,100,200,300,400,500,600,700]:\n",
    "          model = RandomForestClassifier(n_estimators=k)\n",
    "          model.fit(X_train,y_train)\n",
    "          # evaluate the model and update the accuracies list\n",
    "          score = model.score(X_val,y_val)\n",
    "          print(\"k=%d, accuracy=%.2f%%\" % (k, score * 100))\n",
    "          accuracies.append(score*100)"
   ]
  },
  {
   "cell_type": "code",
   "execution_count": 34,
   "metadata": {},
   "outputs": [],
   "source": [
    "X_train,X_test,y_train,y_test=train_test_split(X,y,test_size=0.13,random_state=30,stratify=y)\n",
    "rf_model = RandomForestClassifier(n_estimators=100)\n",
    "rf_model.fit(X_train,y_train)\n",
    "predictions = rf_model.predict(X_test)\n",
    "\n",
    "accuracy_rf=accuracy_score(y_test, predictions)"
   ]
  },
  {
   "cell_type": "code",
   "execution_count": 35,
   "metadata": {},
   "outputs": [
    {
     "name": "stdout",
     "output_type": "stream",
     "text": [
      "EVALUATION ON TESTING DATA\n",
      "              precision    recall  f1-score   support\n",
      "\n",
      "           0       1.00      1.00      1.00        23\n",
      "           1       0.96      1.00      0.98        24\n",
      "           2       1.00      1.00      1.00        23\n",
      "           3       1.00      1.00      1.00        24\n",
      "           4       1.00      1.00      1.00        23\n",
      "           5       1.00      1.00      1.00        24\n",
      "           6       1.00      1.00      1.00        24\n",
      "           7       0.96      1.00      0.98        23\n",
      "           8       1.00      0.96      0.98        23\n",
      "           9       1.00      0.96      0.98        23\n",
      "\n",
      "    accuracy                           0.99       234\n",
      "   macro avg       0.99      0.99      0.99       234\n",
      "weighted avg       0.99      0.99      0.99       234\n",
      "\n",
      "Confusion matrix\n",
      "[[23  0  0  0  0  0  0  0  0  0]\n",
      " [ 0 24  0  0  0  0  0  0  0  0]\n",
      " [ 0  0 23  0  0  0  0  0  0  0]\n",
      " [ 0  0  0 24  0  0  0  0  0  0]\n",
      " [ 0  0  0  0 23  0  0  0  0  0]\n",
      " [ 0  0  0  0  0 24  0  0  0  0]\n",
      " [ 0  0  0  0  0  0 24  0  0  0]\n",
      " [ 0  0  0  0  0  0  0 23  0  0]\n",
      " [ 0  1  0  0  0  0  0  0 22  0]\n",
      " [ 0  0  0  0  0  0  0  1  0 22]]\n"
     ]
    }
   ],
   "source": [
    "print(\"EVALUATION ON TESTING DATA\")\n",
    "print(classification_report(y_test, predictions))\n",
    "\n",
    "print (\"Confusion matrix\")\n",
    "print(confusion_matrix(y_test,predictions))"
   ]
  },
  {
   "cell_type": "code",
   "execution_count": 50,
   "metadata": {},
   "outputs": [
    {
     "name": "stdout",
     "output_type": "stream",
     "text": [
      "KNN achieved highest accuracy of 99.573% on test data\n",
      "Random Forest achieved highest accuracy of 99.145% on test data\n",
      "Decision tree achieved highest accuracy of 88.889% on test data\n"
     ]
    }
   ],
   "source": [
    "print(\"KNN achieved highest accuracy of %.3f%% on test data\" %  (accuracy*100) + \"\\n\" +\n",
    "      \"Random Forest achieved highest accuracy of %.3f%% on test data\" % (accuracy_rf*100)+ \"\\n\" +\n",
    "      \"Decision tree achieved highest accuracy of %.3f%% on test data\" % (accuracy_dt*100))"
   ]
  },
  {
   "cell_type": "code",
   "execution_count": null,
   "metadata": {},
   "outputs": [],
   "source": []
  }
 ],
 "metadata": {
  "kernelspec": {
   "display_name": "Python 3",
   "language": "python",
   "name": "python3"
  },
  "language_info": {
   "codemirror_mode": {
    "name": "ipython",
    "version": 3
   },
   "file_extension": ".py",
   "mimetype": "text/x-python",
   "name": "python",
   "nbconvert_exporter": "python",
   "pygments_lexer": "ipython3",
   "version": "3.8.3"
  }
 },
 "nbformat": 4,
 "nbformat_minor": 4
}
